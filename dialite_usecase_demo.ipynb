{
 "cells": [
  {
   "attachments": {},
   "cell_type": "markdown",
   "metadata": {},
   "source": [
    "# DIALITE: Discover, Align and Integrate open Data Tables"
   ]
  },
  {
   "attachments": {},
   "cell_type": "markdown",
   "metadata": {},
   "source": [
    "## Demo 1: DIALITE use case"
   ]
  },
  {
   "cell_type": "code",
   "execution_count": 1,
   "metadata": {},
   "outputs": [],
   "source": [
    "# Import the necessary libraries\n",
    "import pandas as pd\n",
    "import dialite_server as dialite\n",
    "import json\n",
    "import time\n",
    "import glob"
   ]
  },
  {
   "attachments": {},
   "cell_type": "markdown",
   "metadata": {},
   "source": [
    "## Step 1: Discover\n",
    "The first step of DIALITE is to search for the related tables from open data repository. DIALITE offers state-of-the-art table search techniques to find the joinable, unionable or related tables from the open data repositories."
   ]
  },
  {
   "cell_type": "code",
   "execution_count": 2,
   "metadata": {},
   "outputs": [
    {
     "name": "stdout",
     "output_type": "stream",
     "text": [
      "Query table name: covid19_t1.csv\n",
      "Query table uploaded successfully.\n",
      "   Country        City  Vaccination Rate\n",
      "0  Germany      Berlin                63\n",
      "1  England  Manchester                78\n",
      "2    Spain   Barcelona                82\n"
     ]
    }
   ],
   "source": [
    "# Upload the query table.\n",
    "query_table = dialite.upload_query_table(\"data/query/covid19_t1.csv\")"
   ]
  },
  {
   "cell_type": "code",
   "execution_count": 3,
   "metadata": {},
   "outputs": [
    {
     "name": "stdout",
     "output_type": "stream",
     "text": [
      "Enter index of intent column:\n",
      "1\n",
      "Enter index of query column:\n",
      "1\n",
      "Integration set after table discovery:\n",
      "covid19_t3.csv\n",
      "covid19_t1.csv\n",
      "covid19_t2.csv\n"
     ]
    }
   ],
   "source": [
    "# Execute discovery algorithm and create integration set.\n",
    "integration_set = dialite.discover_tables(query_table, algorithm= ['SANTOS','JOSIE'], k = 1)"
   ]
  },
  {
   "cell_type": "code",
   "execution_count": 4,
   "metadata": {},
   "outputs": [
    {
     "name": "stdout",
     "output_type": "stream",
     "text": [
      "Successfully integrated 3 tables using ALITE.\n",
      "Integrated table:\n",
      "   Country         City  Vaccination Rate  Total Cases  Death Rate\n",
      "0  Germany       Berlin              63.0    1411749.0       147.0\n",
      "1  England   Manchester              78.0          NaN         NaN\n",
      "2    Spain    Barcelona              82.0    2676188.0       275.0\n",
      "3   Canada      Toronto              83.0          NaN         NaN\n",
      "4   Mexico  Mexico City               NaN          NaN         NaN\n",
      "5      USA       Boston              62.0     263978.0       335.0\n",
      "6      NaN    New Delhi               NaN    2006680.0       158.0\n"
     ]
    }
   ],
   "source": [
    "# Run integration algorithm over the integration set to get an integrated table.\n",
    "integrated_table = dialite.integrate_tables(integration_set, algorithm = \"ALITE\")"
   ]
  },
  {
   "cell_type": "code",
   "execution_count": 5,
   "metadata": {},
   "outputs": [
    {
     "name": "stdout",
     "output_type": "stream",
     "text": [
      "     City\n",
      "0  Boston\n"
     ]
    }
   ],
   "source": [
    "# Apply downstreaming tasks and run analysis over the integrated table. \n",
    "# In this example, we run an aggregation query over the selected attributes and measure correlation.\n",
    "integrated_table_name = dialite.get_table_name(query_table)\n",
    "sql = \"SELECT city from integrated_table ORDER BY `Vaccination Rate` ASC LIMIT 1\"\n",
    "dialite.analyze_sql(integrated_table, query = sql)"
   ]
  },
  {
   "cell_type": "code",
   "execution_count": 6,
   "metadata": {},
   "outputs": [
    {
     "data": {
      "text/html": [
       "<div>\n",
       "<style scoped>\n",
       "    .dataframe tbody tr th:only-of-type {\n",
       "        vertical-align: middle;\n",
       "    }\n",
       "\n",
       "    .dataframe tbody tr th {\n",
       "        vertical-align: top;\n",
       "    }\n",
       "\n",
       "    .dataframe thead th {\n",
       "        text-align: right;\n",
       "    }\n",
       "</style>\n",
       "<table border=\"1\" class=\"dataframe\">\n",
       "  <thead>\n",
       "    <tr style=\"text-align: right;\">\n",
       "      <th></th>\n",
       "      <th>Vaccination Rate</th>\n",
       "      <th>Total Cases</th>\n",
       "      <th>Death Rate</th>\n",
       "    </tr>\n",
       "  </thead>\n",
       "  <tbody>\n",
       "    <tr>\n",
       "      <th>Vaccination Rate</th>\n",
       "      <td>1.000000</td>\n",
       "      <td>0.899881</td>\n",
       "      <td>0.160787</td>\n",
       "    </tr>\n",
       "    <tr>\n",
       "      <th>Total Cases</th>\n",
       "      <td>0.899881</td>\n",
       "      <td>1.000000</td>\n",
       "      <td>-0.285772</td>\n",
       "    </tr>\n",
       "    <tr>\n",
       "      <th>Death Rate</th>\n",
       "      <td>0.160787</td>\n",
       "      <td>-0.285772</td>\n",
       "      <td>1.000000</td>\n",
       "    </tr>\n",
       "  </tbody>\n",
       "</table>\n",
       "</div>"
      ],
      "text/plain": [
       "                  Vaccination Rate  Total Cases  Death Rate\n",
       "Vaccination Rate          1.000000     0.899881    0.160787\n",
       "Total Cases               0.899881     1.000000   -0.285772\n",
       "Death Rate                0.160787    -0.285772    1.000000"
      ]
     },
     "execution_count": 6,
     "metadata": {},
     "output_type": "execute_result"
    }
   ],
   "source": [
    "#See the correlation between the attributes by directly using pandas dataframe\n",
    "integrated_table.corr()"
   ]
  }
 ],
 "metadata": {
  "kernelspec": {
   "display_name": "Python 3",
   "language": "python",
   "name": "python3"
  },
  "language_info": {
   "codemirror_mode": {
    "name": "ipython",
    "version": 3
   },
   "file_extension": ".py",
   "mimetype": "text/x-python",
   "name": "python",
   "nbconvert_exporter": "python",
   "pygments_lexer": "ipython3",
   "version": "3.8.10"
  },
  "orig_nbformat": 4,
  "vscode": {
   "interpreter": {
    "hash": "0822af77c0478f28fc75a22a78f781852ff3b3e7f1600f0f7be807f0cd90bde5"
   }
  }
 },
 "nbformat": 4,
 "nbformat_minor": 2
}
