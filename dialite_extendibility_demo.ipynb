{
 "cells": [
  {
   "attachments": {},
   "cell_type": "markdown",
   "metadata": {},
   "source": [
    "# DIALITE: Discover, Align and Integrate open Data Tables"
   ]
  },
  {
   "attachments": {},
   "cell_type": "markdown",
   "metadata": {},
   "source": [
    "## Demo 2: DIALITE Extendibility"
   ]
  },
  {
   "cell_type": "code",
   "execution_count": 2,
   "metadata": {},
   "outputs": [],
   "source": [
    "# Import the necessary libraries\n",
    "import pandas as pd\n",
    "import dialite_server as dialite\n",
    "import json\n",
    "import time\n",
    "import glob"
   ]
  },
  {
   "cell_type": "code",
   "execution_count": 8,
   "metadata": {},
   "outputs": [
    {
     "data": {
      "text/html": [
       "<div>\n",
       "<style scoped>\n",
       "    .dataframe tbody tr th:only-of-type {\n",
       "        vertical-align: middle;\n",
       "    }\n",
       "\n",
       "    .dataframe tbody tr th {\n",
       "        vertical-align: top;\n",
       "    }\n",
       "\n",
       "    .dataframe thead th {\n",
       "        text-align: right;\n",
       "    }\n",
       "</style>\n",
       "<table border=\"1\" class=\"dataframe\">\n",
       "  <thead>\n",
       "    <tr style=\"text-align: right;\">\n",
       "      <th></th>\n",
       "      <th>Country</th>\n",
       "      <th>Cases</th>\n",
       "      <th>Deaths</th>\n",
       "      <th>Recovered</th>\n",
       "      <th>Active</th>\n",
       "    </tr>\n",
       "  </thead>\n",
       "  <tbody>\n",
       "    <tr>\n",
       "      <th>0</th>\n",
       "      <td>USA</td>\n",
       "      <td>5742812</td>\n",
       "      <td>178701</td>\n",
       "      <td>2633567</td>\n",
       "      <td>2930544</td>\n",
       "    </tr>\n",
       "    <tr>\n",
       "      <th>1</th>\n",
       "      <td>Brazil</td>\n",
       "      <td>3713876</td>\n",
       "      <td>116476</td>\n",
       "      <td>2788841</td>\n",
       "      <td>808559</td>\n",
       "    </tr>\n",
       "    <tr>\n",
       "      <th>2</th>\n",
       "      <td>India</td>\n",
       "      <td>3444061</td>\n",
       "      <td>61529</td>\n",
       "      <td>2643788</td>\n",
       "      <td>738744</td>\n",
       "    </tr>\n",
       "    <tr>\n",
       "      <th>3</th>\n",
       "      <td>Russia</td>\n",
       "      <td>982822</td>\n",
       "      <td>16841</td>\n",
       "      <td>745930</td>\n",
       "      <td>219051</td>\n",
       "    </tr>\n",
       "    <tr>\n",
       "      <th>4</th>\n",
       "      <td>Mexico</td>\n",
       "      <td>704016</td>\n",
       "      <td>73814</td>\n",
       "      <td>442309</td>\n",
       "      <td>187893</td>\n",
       "    </tr>\n",
       "  </tbody>\n",
       "</table>\n",
       "</div>"
      ],
      "text/plain": [
       "  Country    Cases  Deaths  Recovered   Active\n",
       "0     USA  5742812  178701    2633567  2930544\n",
       "1  Brazil  3713876  116476    2788841   808559\n",
       "2   India  3444061   61529    2643788   738744\n",
       "3  Russia   982822   16841     745930   219051\n",
       "4  Mexico   704016   73814     442309   187893"
      ]
     },
     "execution_count": 8,
     "metadata": {},
     "output_type": "execute_result"
    }
   ],
   "source": [
    "# Generate a new query table using GPT-3\n",
    "query_table = dialite.randomly_generate_query_table(\n",
    "    'a table about covid with 5 columns and 5 rows'\n",
    "    )\n",
    "query_table.head(5)"
   ]
  },
  {
   "cell_type": "code",
   "execution_count": 9,
   "metadata": {},
   "outputs": [
    {
     "name": "stdout",
     "output_type": "stream",
     "text": [
      "Successfully integrated 4 tables using outer join algorithm.\n",
      "Integrated table:\n",
      "     index             player position     team                  stadium  \\\n",
      "0        0      aaron rodgers       qb  packers                      NaN   \n",
      "1        1       alvin kamara       rb   saints  mercedes-benz superdome   \n",
      "2        2     cameron jordan       de   saints  mercedes-benz superdome   \n",
      "3        3  marshon lattimore       cb   saints  mercedes-benz superdome   \n",
      "4        4     tyrann mathieu        s   saints  mercedes-benz superdome   \n",
      "..     ...                ...      ...      ...                      ...   \n",
      "109    109       mark andrews      NaN      NaN             m and t bank   \n",
      "110    110                NaN      NaN   ravens             m and t bank   \n",
      "111    111                NaN      NaN    colts            lucas stadium   \n",
      "112    112                NaN      NaN  cowboys                     at&t   \n",
      "113    113                NaN      NaN  packers            lambeau field   \n",
      "\n",
      "                   location capacity opened  \n",
      "0                       NaN      NaN    NaN  \n",
      "1               new orleans   73,208   1975  \n",
      "2    new orleans, louisiana   73,208   1975  \n",
      "3    new orleans, louisiana   73,208   1975  \n",
      "4    new orleans, louisiana   73,208   1975  \n",
      "..                      ...      ...    ...  \n",
      "109     baltimore, maryland      NaN   1998  \n",
      "110                     NaN   71,008   1998  \n",
      "111                     NaN   67,000    NaN  \n",
      "112                     NaN   80,000   2009  \n",
      "113                     NaN   81,441   1957  \n",
      "\n",
      "[114 rows x 8 columns]\n"
     ]
    }
   ],
   "source": [
    "# Use newly added outer join operator for the integration.\n",
    "# We use a user-provided integration set.\n",
    "integration_set = set(glob.glob(\"data/integration-set/stadiums_0/*\"))\n",
    "integrated_table_outer_join = dialite.integrate_tables(integration_set, algorithm = \"outer_join\")"
   ]
  },
  {
   "cell_type": "code",
   "execution_count": 10,
   "metadata": {},
   "outputs": [
    {
     "name": "stdout",
     "output_type": "stream",
     "text": [
      "Successfully integrated 4 tables using ALITE.\n",
      "Integrated table:\n",
      "     index             player position     team                  stadium  \\\n",
      "0        0      lamar jackson       qb   ravens         m&t bank stadium   \n",
      "1        1        darius slay       cb   eagles  lincoln financial field   \n",
      "2        2       roquan smith       lb    bears            soldier field   \n",
      "3        3        dalvin cook       rb  vikings        u.s. bank stadium   \n",
      "4        4       wyatt teller        g   browns      firstenergy stadium   \n",
      "..     ...                ...      ...      ...                      ...   \n",
      "116    116       jamarr chase       wr  bengals               paul brown   \n",
      "117    117     kenny moore ii       cb    colts            lucas stadium   \n",
      "118    118    jonathan taylor       rb    colts            lucas stadium   \n",
      "119    119  shaquille leonard       lb    colts            lucas stadium   \n",
      "120    120     quenton nelson        g    colts            lucas stadium   \n",
      "\n",
      "                       location capacity      opened  \n",
      "0           baltimore, maryland   71,008        1998  \n",
      "1    philadelphia, pennsylvania   69,596        2003  \n",
      "2             chicago, illinois   61,500  1924[nb 1]  \n",
      "3        minneapolis, minnesota   66,655        2016  \n",
      "4               cleveland, ohio   67,895        1999  \n",
      "..                          ...      ...         ...  \n",
      "116            cincinnati, ohio      NaN        2000  \n",
      "117                         NaN   67,000         NaN  \n",
      "118                         NaN   67,000         NaN  \n",
      "119                         NaN   67,000         NaN  \n",
      "120                         NaN   67,000         NaN  \n",
      "\n",
      "[121 rows x 8 columns]\n"
     ]
    }
   ],
   "source": [
    "#for comparison, we also integrate tables using ALITE.\n",
    "integrated_table_alite = dialite.integrate_tables(integration_set, algorithm = \"ALITE\")"
   ]
  },
  {
   "cell_type": "code",
   "execution_count": 11,
   "metadata": {},
   "outputs": [
    {
     "name": "stdout",
     "output_type": "stream",
     "text": [
      "Precision: 0.339\n",
      "Recall: 0.397\n",
      "F-score: 0.366\n"
     ]
    }
   ],
   "source": [
    "# Apply entity-resolution as a downstreaming task\n",
    "\n",
    "dialite.analyze_er(integrated_table_outer_join)"
   ]
  },
  {
   "cell_type": "code",
   "execution_count": 12,
   "metadata": {},
   "outputs": [
    {
     "name": "stdout",
     "output_type": "stream",
     "text": [
      "Precision: 0.795\n",
      "Recall: 0.838\n",
      "F-score: 0.816\n"
     ]
    }
   ],
   "source": [
    "dialite.analyze_er(integrated_table_alite)\n"
   ]
  }
 ],
 "metadata": {
  "kernelspec": {
   "display_name": "Python 3",
   "language": "python",
   "name": "python3"
  },
  "language_info": {
   "codemirror_mode": {
    "name": "ipython",
    "version": 3
   },
   "file_extension": ".py",
   "mimetype": "text/x-python",
   "name": "python",
   "nbconvert_exporter": "python",
   "pygments_lexer": "ipython3",
   "version": "3.8.10"
  },
  "orig_nbformat": 4,
  "vscode": {
   "interpreter": {
    "hash": "0822af77c0478f28fc75a22a78f781852ff3b3e7f1600f0f7be807f0cd90bde5"
   }
  }
 },
 "nbformat": 4,
 "nbformat_minor": 2
}
